{
 "cells": [
  {
   "cell_type": "code",
   "execution_count": 1,
   "metadata": {},
   "outputs": [
    {
     "name": "stdout",
     "output_type": "stream",
     "text": [
      "Imageio: 'ffmpeg.linux64' was not found on your computer; downloading it now.\n",
      "Try 1. Download from https://github.com/imageio/imageio-binaries/raw/master/ffmpeg/ffmpeg.linux64 (27.2 MB)\n",
      "Downloading: 8192/28549024 bytes (0.0319488/28549024 bytes (1.1843776/28549024 bytes (3.01531904/28549024 bytes (5.4%2334720/28549024 bytes (8.2%3203072/28549024 bytes (11.24063232/28549024 bytes (14.24874240/28549024 bytes (17.15693440/28549024 bytes (19.96529024/28549024 bytes (22.97348224/28549024 bytes (25.78167424/28549024 bytes (28.68986624/28549024 bytes (31.59805824/28549024 bytes (34.310625024/28549024 bytes (37.2%11444224/28549024 bytes (40.1%12263424/28549024 bytes (43.0%13082624/28549024 bytes (45.8%13901824/28549024 bytes (48.7%14729216/28549024 bytes (51.6%15540224/28549024 bytes (54.4%16359424/28549024 bytes (57.3%17178624/28549024 bytes (60.2%17997824/28549024 bytes (63.0%18817024/28549024 bytes (65.9%19652608/28549024 bytes (68.8%20488192/28549024 bytes (71.8%21323776/28549024 bytes (74.7%22142976/28549024 bytes (77.6%22962176/28549024 bytes (80.4%23781376/28549024 bytes (83.3%24600576/28549024 bytes (86.2%25419776/28549024 bytes (89.0%26238976/28549024 bytes (91.9%27074560/28549024 bytes (94.8%27893760/28549024 bytes (97.7%28549024/28549024 bytes (100.0%)\n",
      "  Done\n",
      "File saved as /root/.imageio/ffmpeg/ffmpeg.linux64.\n"
     ]
    }
   ],
   "source": [
    "import imageio\n",
    "imageio.plugins.ffmpeg.download()"
   ]
  },
  {
   "cell_type": "code",
   "execution_count": null,
   "metadata": {
    "collapsed": true
   },
   "outputs": [],
   "source": []
  }
 ],
 "metadata": {
  "kernelspec": {
   "display_name": "Python 3",
   "language": "python",
   "name": "python3"
  },
  "language_info": {
   "codemirror_mode": {
    "name": "ipython",
    "version": 3
   },
   "file_extension": ".py",
   "mimetype": "text/x-python",
   "name": "python",
   "nbconvert_exporter": "python",
   "pygments_lexer": "ipython3",
   "version": "3.5.2"
  },
  "widgets": {
   "state": {},
   "version": "1.1.2"
  }
 },
 "nbformat": 4,
 "nbformat_minor": 2
}
